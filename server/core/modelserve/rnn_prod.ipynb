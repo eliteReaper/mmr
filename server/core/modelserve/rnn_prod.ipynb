{
 "cells": [
  {
   "cell_type": "code",
   "execution_count": 1,
   "id": "ba8fa7ee",
   "metadata": {},
   "outputs": [],
   "source": [
    "import pandas as pd\n",
    "from collections import defaultdict\n",
    "import numpy as np\n",
    "import dask.dataframe as dd\n",
    "from tqdm import tqdm"
   ]
  },
  {
   "cell_type": "code",
   "execution_count": 2,
   "id": "293b75e3",
   "metadata": {},
   "outputs": [],
   "source": [
    "MOVIES_DATASET = \"./data/movies.csv\"\n",
    "RATINGS_DATASET = \"./data/ratings.csv\"\n",
    "NUMBER_OF_USER_WATCHED_MIN = 5\n",
    "NUMBER_OF_MOVIES_WATCHED_MIN = 3"
   ]
  },
  {
   "cell_type": "markdown",
   "id": "d6023f73",
   "metadata": {},
   "source": [
    "# Preprocessing Movies Dataset"
   ]
  },
  {
   "cell_type": "code",
   "execution_count": 3,
   "id": "8dd5106f",
   "metadata": {},
   "outputs": [
    {
     "name": "stderr",
     "output_type": "stream",
     "text": [
      "100%|█████████████████████████████████████████████████████████████████████████████████████████████████████████████████████| 9742/9742 [00:00<00:00, 2784009.65it/s]"
     ]
    },
    {
     "name": "stdout",
     "output_type": "stream",
     "text": [
      "Number of movies 3650\n"
     ]
    },
    {
     "name": "stderr",
     "output_type": "stream",
     "text": [
      "\n"
     ]
    }
   ],
   "source": [
    "# Mapping movieId to indexes for later use in one-hot encoding  \n",
    "movie_mapper = defaultdict(int)\n",
    "def map_movie_to_idx():\n",
    "    movies_df = pd.read_csv(MOVIES_DATASET)\n",
    "    \n",
    "    ratings_df = pd.read_csv(RATINGS_DATASET)\n",
    "    movie_ids = ratings_df['movieId']\n",
    "    movie_dict = defaultdict(int)\n",
    "    for movie in movie_ids:\n",
    "        movie_dict[movie] += 1\n",
    "    \n",
    "    movies_df.dropna(inplace=True)\n",
    "    counter = 0\n",
    "    \n",
    "    # Fastest way to iterate a df\n",
    "    iter_dict = movies_df.to_dict('records')\n",
    "    for row in tqdm(iter_dict):\n",
    "        if (row['movieId'] not in movie_dict) or (movie_dict[row['movieId']] < NUMBER_OF_USER_WATCHED_MIN): \n",
    "            continue\n",
    "        movie_mapper[row['movieId']] = counter\n",
    "        counter += 1\n",
    "    print(\"Number of movies {}\".format(counter))\n",
    "\n",
    "map_movie_to_idx()"
   ]
  },
  {
   "cell_type": "markdown",
   "id": "19979b2c",
   "metadata": {},
   "source": [
    "# Preprocessing Ratings Dataset"
   ]
  },
  {
   "cell_type": "code",
   "execution_count": 4,
   "id": "1abd5dbb",
   "metadata": {},
   "outputs": [
    {
     "name": "stderr",
     "output_type": "stream",
     "text": [
      "100%|███████████████████████████████████████████████████████████████████████████████████████████████████████████████████████████| 610/610 [00:06<00:00, 100.89it/s]\n"
     ]
    }
   ],
   "source": [
    "def one_hot_encode_movie(movieId):\n",
    "    num_movies = len(movie_mapper)\n",
    "#     encoded_movie = np.zeros(num_movies, dtype=int) \n",
    "    encoded_movie = [0] * num_movies\n",
    "    encoded_movie[movie_mapper[movieId]] = 1\n",
    "    return encoded_movie\n",
    "\n",
    "def one_hot_encode_user_seq(user_seq):\n",
    "    encoded = []\n",
    "    for movie in user_seq:\n",
    "        encoded.append(one_hot_encode_movie(movie))\n",
    "#     return np.array(encoded, dtype=object)\n",
    "    return encoded\n",
    "\n",
    "def sequentialize():\n",
    "    ratings_df = pd.read_csv(RATINGS_DATASET)\n",
    "    ratings_df.dropna(inplace=True)\n",
    "    ratings_df.sort_values(by=['userId', 'timestamp'], inplace=True)\n",
    "#     ratings_df = ratings_df[:50000]\n",
    "    \n",
    "    ratings_df.dropna(inplace=True)\n",
    "    userIds = ratings_df['userId'].unique()\n",
    "    \n",
    "    seq = []\n",
    "    for user in tqdm(userIds):\n",
    "        user_seq = list(ratings_df[(ratings_df['userId'] == user)]['movieId'])\n",
    "        if len(user_seq) >= NUMBER_OF_MOVIES_WATCHED_MIN:\n",
    "            seq.append(one_hot_encode_user_seq(user_seq))\n",
    "#     return np.array(seq, dtype=object)\n",
    "    return seq\n",
    "res = sequentialize()"
   ]
  },
  {
   "cell_type": "code",
   "execution_count": null,
   "id": "797b2c77",
   "metadata": {},
   "outputs": [],
   "source": []
  }
 ],
 "metadata": {
  "kernelspec": {
   "display_name": "Python 3 (ipykernel)",
   "language": "python",
   "name": "python3"
  },
  "language_info": {
   "codemirror_mode": {
    "name": "ipython",
    "version": 3
   },
   "file_extension": ".py",
   "mimetype": "text/x-python",
   "name": "python",
   "nbconvert_exporter": "python",
   "pygments_lexer": "ipython3",
   "version": "3.9.10"
  }
 },
 "nbformat": 4,
 "nbformat_minor": 5
}
